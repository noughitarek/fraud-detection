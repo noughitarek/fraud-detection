{
 "cells": [
  {
   "cell_type": "code",
   "execution_count": 8,
   "metadata": {},
   "outputs": [],
   "source": [
    "import sys\n",
    "import os\n",
    "import time\n",
    "import warnings\n",
    "sys.path.append(os.path.abspath(os.path.join('../../')))\n",
    "warnings.filterwarnings(\"ignore\")"
   ]
  },
  {
   "cell_type": "code",
   "execution_count": 9,
   "metadata": {},
   "outputs": [],
   "source": [
    "from sklearn.model_selection import train_test_split, StratifiedKFold\n",
    "from sklearn.metrics import accuracy_score, precision_score, recall_score, f1_score\n",
    "from imblearn.under_sampling import RandomUnderSampler\n",
    "from sklearn.linear_model import LogisticRegression\n",
    "import pandas as pd\n",
    "import numpy as np\n",
    "from evaluation import full_evaluate"
   ]
  },
  {
   "cell_type": "code",
   "execution_count": 10,
   "metadata": {},
   "outputs": [],
   "source": [
    "# Reading the dataset\n",
    "df = pd.read_csv(\"../../datasets/final_features_dataset.csv\")\n",
    "\n",
    "# Separating features and target variable\n",
    "X = df.drop(columns=['is_fraud', 'Unnamed: 0'])\n",
    "y = df['is_fraud']\n",
    "\n",
    "# Splitting the data\n",
    "X_train, X_val, y_train, y_val = train_test_split(X, y, test_size=0.2, random_state=0, stratify=y)\n",
    "\n",
    "# Convert data to arrays if they are not already\n",
    "X_train = X_train.values if isinstance(X, pd.DataFrame) else X_train\n",
    "y_train = y_train.values if isinstance(y, pd.Series) else y_train"
   ]
  },
  {
   "cell_type": "code",
   "execution_count": 11,
   "metadata": {},
   "outputs": [],
   "source": [
    "# Defining the hyperparameter search space\n",
    "hyperparameter_space = {\n",
    "    \"tol\": [0, 1],\n",
    "    \"C\": [0.1, 100],\n",
    "    \"fit_intercept\": [-1, 1],\n",
    "    \"intercept_scaling\": [1, 5],\n",
    "    \"class_weight\": [-1, 1],\n",
    "    \"max_iter\": [100, 10000],\n",
    "    \"multi_class\": [0, 3],\n",
    "    \"warm_start\": [-1, 1],\n",
    "    \"l1_ratio\": [0, 1]\n",
    "}\n",
    "\n",
    "\n",
    "# Define fitness function to evaluate model performance\n",
    "def fitness(hyperparameters, get_model = False):\n",
    "    \"\"\"\n",
    "    Function to evaluate the fitness of decision tree model with given hyperparameters.\n",
    "\n",
    "    Args:\n",
    "    hyperparameters (list): List of hyperparameter values.\n",
    "    get_model (bool): If True, returns the model only, otherwise returns the fitness score.\n",
    "\n",
    "    Returns:\n",
    "    float or DecisionTreeClassifier: Fitness score if get_model=False, else the model itself.\n",
    "    \"\"\"\n",
    "    # Check if hyperparameters are within defined ranges\n",
    "    for i, value in enumerate(hyperparameters):\n",
    "        param_name = list(hyperparameter_space.keys())[i]\n",
    "        range_min = hyperparameter_space[param_name][0]\n",
    "        range_max = hyperparameter_space[param_name][1]\n",
    "        if not (range_min <= value <= range_max):\n",
    "            return float('-inf') # Penalize if hyperparameters are out of range\n",
    "\n",
    "    # Determine multi_class\n",
    "    multi_class = 'auto'\n",
    "    if round(hyperparameters[6]) == 2: \n",
    "        multi_class = 'ovr'\n",
    "    elif round(hyperparameters[6]) == 3: \n",
    "        multi_class = 'multinomial'\n",
    "\n",
    "    # Create logistic regression model with specified hyperparameters\n",
    "    model = LogisticRegression(\n",
    "        tol = hyperparameters[0],\n",
    "        C = hyperparameters[1],\n",
    "        fit_intercept =  hyperparameters[2]>0,\n",
    "        intercept_scaling = hyperparameters[3],\n",
    "        class_weight = 'balanced' if  hyperparameters[4]>0 else None,\n",
    "        max_iter =  round(hyperparameters[5]),\n",
    "        multi_class = multi_class,\n",
    "        warm_start = hyperparameters[7]>0,\n",
    "        l1_ratio = hyperparameters[8],\n",
    "        random_state=0\n",
    "    )\n",
    "\n",
    "    # If only model is requested, return the model\n",
    "    if get_model:\n",
    "        print('Best parameters', {\n",
    "            \"tol\": hyperparameters[0],\n",
    "            \"C\": hyperparameters[1],\n",
    "            \"fit_intercept\":  hyperparameters[2]>0,\n",
    "            \"intercept_scaling\": hyperparameters[3],\n",
    "            \"class_weight\": 'balanced' if  hyperparameters[4]>0 else None,\n",
    "            \"max_iter\":  round(hyperparameters[5]),\n",
    "            \"multi_class\": multi_class,\n",
    "            \"warm_start\": hyperparameters[7]>0,\n",
    "            \"l1_ratio\": hyperparameters[8],\n",
    "        })\n",
    "        return model\n",
    "    else:\n",
    "        # Initialize cross-validation\n",
    "        cv = StratifiedKFold(n_splits=4, shuffle=True, random_state=0)\n",
    "        cv_results = []\n",
    "        \n",
    "        # Perform cross-validation\n",
    "        for train_index, test_index in cv.split(X_train, y_train):\n",
    "            X_train_fold, X_test_fold = X_train[train_index], X_train[test_index]\n",
    "            y_train_fold, y_test_fold = y_train[train_index], y_train[test_index]\n",
    "\n",
    "            # smote oversampling\n",
    "            sm = RandomUnderSampler()\n",
    "            X_train_fold, y_train_fold = sm.fit_resample(X_train_fold, y_train_fold)\n",
    "            \n",
    "            # Fit the model\n",
    "            model = model.fit(X_train_fold, y_train_fold)\n",
    "            \n",
    "            # Make predictions\n",
    "            y_train_pred = model.predict(X_train_fold)\n",
    "            y_test_pred = model.predict(X_test_fold)\n",
    "            \n",
    "            # Calculate evaluation metrics\n",
    "            f1_train = f1_score(y_train_fold, y_train_pred)\n",
    "            f1_test = f1_score(y_test_fold, y_test_pred)\n",
    "\n",
    "            # Store results\n",
    "            cv_results.append({'f1_train': f1_train, 'f1_test': f1_test})\n",
    "            \n",
    "        # Extracting F1 scores for training, testing, and validation sets from cross-validation results\n",
    "        f1_train = np.array([fold[\"f1_train\"] for fold in cv_results])\n",
    "        f1_test = np.array([fold[\"f1_test\"] for fold in cv_results])\n",
    "\n",
    "        score = f1_test.mean()\n",
    "        return score"
   ]
  },
  {
   "cell_type": "code",
   "execution_count": 12,
   "metadata": {},
   "outputs": [
    {
     "name": "stdout",
     "output_type": "stream",
     "text": [
      "New best 0.0\n",
      "New best 0.07728236777148799\n",
      "New best 0.07810313261594884\n",
      "New best 0.081409373802695\n"
     ]
    },
    {
     "data": {
      "image/png": "[encoded data removed]",
      "text/plain": [
       "<Figure size 640x480 with 1 Axes>"
      ]
     },
     "metadata": {},
     "output_type": "display_data"
    },
    {
     "name": "stdout",
     "output_type": "stream",
     "text": [
      "Best parameters {'tol': 0.0, 'C': 0.1, 'fit_intercept': True, 'intercept_scaling': 1.0, 'class_weight': 'balanced', 'max_iter': 100, 'multi_class': 'auto', 'warm_start': True, 'l1_ratio': 0.0}\n"
     ]
    },
    {
     "ename": "FileNotFoundError",
     "evalue": "[Errno 2] No such file or directory: '../models/LogisticRegression_under.joblib'",
     "output_type": "error",
     "traceback": [
      "\u001b[1;31m---------------------------------------------------------------------------\u001b[0m",
      "\u001b[1;31mFileNotFoundError\u001b[0m                         Traceback (most recent call last)",
      "Cell \u001b[1;32mIn[12], line 14\u001b[0m\n\u001b[0;32m      2\u001b[0m starting \u001b[38;5;241m=\u001b[39m time\u001b[38;5;241m.\u001b[39mtime()\n\u001b[0;32m      4\u001b[0m \u001b[38;5;66;03m# Perform hyperparameter optimization using the Harris Hawks Optimization algorithm\u001b[39;00m\n\u001b[0;32m      5\u001b[0m \u001b[38;5;66;03m# The `full_evaluate` function evaluates the fitness of each individual (hawk) in the population\u001b[39;00m\n\u001b[0;32m      6\u001b[0m \u001b[38;5;66;03m# by calling the `fitness` function defined earlier\u001b[39;00m\n\u001b[1;32m   (...)\u001b[0m\n\u001b[0;32m     12\u001b[0m \u001b[38;5;66;03m# `max_iter` specifies the maximum number of iterations for the HHO algorithm\u001b[39;00m\n\u001b[0;32m     13\u001b[0m \u001b[38;5;66;03m# `pop_size` specifies the population size for each iteration\u001b[39;00m\n\u001b[1;32m---> 14\u001b[0m \u001b[43mfull_evaluate\u001b[49m\u001b[38;5;241;43m.\u001b[39;49m\u001b[43mfull_evaluate\u001b[49m\u001b[43m(\u001b[49m\u001b[43mfitness\u001b[49m\u001b[43m,\u001b[49m\u001b[43m \u001b[49m\u001b[43mX\u001b[49m\u001b[43m,\u001b[49m\u001b[43m \u001b[49m\u001b[43my\u001b[49m\u001b[43m,\u001b[49m\u001b[43m \u001b[49m\u001b[43mhyperparameter_space\u001b[49m\u001b[43m,\u001b[49m\u001b[43m \u001b[49m\u001b[43msampling\u001b[49m\u001b[38;5;241;43m=\u001b[39;49m\u001b[38;5;124;43m'\u001b[39;49m\u001b[38;5;124;43munder\u001b[39;49m\u001b[38;5;124;43m'\u001b[39;49m\u001b[43m,\u001b[49m\u001b[43m \u001b[49m\u001b[43mmax_iter\u001b[49m\u001b[38;5;241;43m=\u001b[39;49m\u001b[38;5;241;43m100\u001b[39;49m\u001b[43m,\u001b[49m\u001b[43m \u001b[49m\u001b[43mpop_size\u001b[49m\u001b[38;5;241;43m=\u001b[39;49m\u001b[38;5;241;43m5\u001b[39;49m\u001b[43m)\u001b[49m\n\u001b[0;32m     16\u001b[0m \u001b[38;5;66;03m# Measure the time taken for optimization by calculating the difference between the start time and the current time\u001b[39;00m\n\u001b[0;32m     17\u001b[0m exec_time \u001b[38;5;241m=\u001b[39m time\u001b[38;5;241m.\u001b[39mtime() \u001b[38;5;241m-\u001b[39m starting\n",
      "File \u001b[1;32mc:\\Users\\tr3h2\\OneDrive\\Bureau\\PFE FRAUD\\evaluation\\full_evaluate.py:40\u001b[0m, in \u001b[0;36mfull_evaluate\u001b[1;34m(eval, X, y, hyperparameter_space, sampling, max_iter, pop_size)\u001b[0m\n\u001b[0;32m     37\u001b[0m     filename \u001b[38;5;241m=\u001b[39m \u001b[38;5;124m'\u001b[39m\u001b[38;5;124m../models/\u001b[39m\u001b[38;5;124m'\u001b[39m\u001b[38;5;241m+\u001b[39mmodel\u001b[38;5;241m.\u001b[39m\u001b[38;5;18m__class__\u001b[39m\u001b[38;5;241m.\u001b[39m\u001b[38;5;18m__name__\u001b[39m \u001b[38;5;241m+\u001b[39m \u001b[38;5;124m'\u001b[39m\u001b[38;5;124m.joblib\u001b[39m\u001b[38;5;124m'\u001b[39m\n\u001b[0;32m     39\u001b[0m \u001b[38;5;66;03m# Save the trained model\u001b[39;00m\n\u001b[1;32m---> 40\u001b[0m \u001b[43mdump\u001b[49m\u001b[43m(\u001b[49m\u001b[43mmodel\u001b[49m\u001b[43m,\u001b[49m\u001b[43m \u001b[49m\u001b[43mfilename\u001b[49m\u001b[43m)\u001b[49m\n\u001b[0;32m     42\u001b[0m \u001b[38;5;66;03m# Setup cross-validation for the model with best hyperparameters\u001b[39;00m\n\u001b[0;32m     43\u001b[0m cv \u001b[38;5;241m=\u001b[39m StratifiedKFold(n_splits\u001b[38;5;241m=\u001b[39m\u001b[38;5;241m4\u001b[39m, shuffle\u001b[38;5;241m=\u001b[39m\u001b[38;5;28;01mTrue\u001b[39;00m, random_state\u001b[38;5;241m=\u001b[39m\u001b[38;5;241m0\u001b[39m)\n",
      "File \u001b[1;32mc:\\Users\\tr3h2\\AppData\\Local\\Programs\\Python\\Python311\\Lib\\site-packages\\joblib\\numpy_pickle.py:552\u001b[0m, in \u001b[0;36mdump\u001b[1;34m(value, filename, compress, protocol, cache_size)\u001b[0m\n\u001b[0;32m    550\u001b[0m         NumpyPickler(f, protocol\u001b[38;5;241m=\u001b[39mprotocol)\u001b[38;5;241m.\u001b[39mdump(value)\n\u001b[0;32m    551\u001b[0m \u001b[38;5;28;01melif\u001b[39;00m is_filename:\n\u001b[1;32m--> 552\u001b[0m     \u001b[38;5;28;01mwith\u001b[39;00m \u001b[38;5;28;43mopen\u001b[39;49m\u001b[43m(\u001b[49m\u001b[43mfilename\u001b[49m\u001b[43m,\u001b[49m\u001b[43m \u001b[49m\u001b[38;5;124;43m'\u001b[39;49m\u001b[38;5;124;43mwb\u001b[39;49m\u001b[38;5;124;43m'\u001b[39;49m\u001b[43m)\u001b[49m \u001b[38;5;28;01mas\u001b[39;00m f:\n\u001b[0;32m    553\u001b[0m         NumpyPickler(f, protocol\u001b[38;5;241m=\u001b[39mprotocol)\u001b[38;5;241m.\u001b[39mdump(value)\n\u001b[0;32m    554\u001b[0m \u001b[38;5;28;01melse\u001b[39;00m:\n",
      "\u001b[1;31mFileNotFoundError\u001b[0m: [Errno 2] No such file or directory: '../models/LogisticRegression_under.joblib'"
     ]
    }
   ],
   "source": [
    "# Measure the start time for the optimization process\n",
    "starting = time.time()\n",
    "\n",
    "# Perform hyperparameter optimization using the Harris Hawks Optimization algorithm\n",
    "# The `full_evaluate` function evaluates the fitness of each individual (hawk) in the population\n",
    "# by calling the `fitness` function defined earlier\n",
    "# `fitness` is the function that computes the fitness score for each set of hyperparameters\n",
    "# `X` is the feature dataset\n",
    "# `y` is the target variable\n",
    "# `hyperparameter_space` defines the search space for hyperparameters\n",
    "# `sampling` is an optional parameter to specify the sampling method\n",
    "# `max_iter` specifies the maximum number of iterations for the HHO algorithm\n",
    "# `pop_size` specifies the population size for each iteration\n",
    "full_evaluate.full_evaluate(fitness, X, y, hyperparameter_space, sampling='under', max_iter=100, pop_size=5)\n",
    "\n",
    "# Measure the time taken for optimization by calculating the difference between the start time and the current time\n",
    "exec_time = time.time() - starting\n",
    "\n",
    "# Print the execution time in seconds\n",
    "print(exec_time, \"seconds\")"
   ]
  }
 ],
 "metadata": {
  "kernelspec": {
   "display_name": "Python 3",
   "language": "python",
   "name": "python3"
  },
  "language_info": {
   "codemirror_mode": {
    "name": "ipython",
    "version": 3
   },
   "file_extension": ".py",
   "mimetype": "text/x-python",
   "name": "python",
   "nbconvert_exporter": "python",
   "pygments_lexer": "ipython3",
   "version": "3.11.5"
  }
 },
 "nbformat": 4,
 "nbformat_minor": 2
}
