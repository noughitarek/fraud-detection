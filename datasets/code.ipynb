{
 "cells": [
  {
   "cell_type": "code",
   "execution_count": 16,
   "metadata": {},
   "outputs": [],
   "source": [
    "import pandas as pd\n",
    "from collections import Counter"
   ]
  },
  {
   "cell_type": "code",
   "execution_count": 31,
   "metadata": {},
   "outputs": [
    {
     "name": "stderr",
     "output_type": "stream",
     "text": [
      "C:\\Users\\tr3h2\\AppData\\Local\\Temp\\ipykernel_16732\\1202145487.py:7: UserWarning: Parsing dates in %d/%m/%Y format when dayfirst=False (the default) was specified. Pass `dayfirst=True` or specify a format to silence this warning.\n",
      "  fraud = fraud[(fraud[\"Charging_Tm\"]>pd.to_datetime('22/04/2024')) & (fraud[\"Charging_Tm\"]<pd.to_datetime('25/04/2024'))]\n",
      "C:\\Users\\tr3h2\\AppData\\Local\\Temp\\ipykernel_16732\\1202145487.py:10: UserWarning: Parsing dates in %d/%m/%Y format when dayfirst=False (the default) was specified. Pass `dayfirst=True` or specify a format to silence this warning.\n",
      "  not_fraud = not_fraud[(not_fraud[\"Charging_Tm\"]>pd.to_datetime('22/04/2024')) & (not_fraud[\"Charging_Tm\"]<pd.to_datetime('25/04/2024'))]\n"
     ]
    }
   ],
   "source": [
    "fraud = pd.read_csv('PFE_DATASET_FRAUD.csv', delimiter=\";\")\n",
    "not_fraud = pd.read_csv('PFE_DATASET_NOT_FRAUD.csv', delimiter=\";\")\n",
    "fraud[\"is_fraud\"] = 1\n",
    "not_fraud[\"is_fraud\"] = 0\n",
    "\n",
    "fraud['Charging_Tm'] = pd.to_datetime(fraud[\"Charging_Tm\"])\n",
    "fraud = fraud[(fraud[\"Charging_Tm\"]>pd.to_datetime('22/04/2024')) & (fraud[\"Charging_Tm\"]<pd.to_datetime('25/04/2024'))]\n",
    "\n",
    "not_fraud['Charging_Tm'] = pd.to_datetime(fraud[\"Charging_Tm\"])\n",
    "not_fraud = not_fraud[(not_fraud[\"Charging_Tm\"]>pd.to_datetime('22/04/2024')) & (not_fraud[\"Charging_Tm\"]<pd.to_datetime('25/04/2024'))]\n",
    "\n",
    "new_df = pd.DataFrame()\n",
    "for i in range(5):\n",
    "    unique_anum_value = fraud[\"A_Num\"].drop_duplicates().sample(n=1).iloc[0]\n",
    "    new_df = pd.concat([new_df, fraud[fraud[\"A_Num\"] == unique_anum_value]])\n",
    "\n",
    "    unique_anum_value = not_fraud[\"A_Num\"].drop_duplicates().sample(n=1).iloc[0]\n",
    "    new_df = pd.concat([new_df, not_fraud[not_fraud[\"A_Num\"] == unique_anum_value]])\n",
    "\n",
    "new_df.to_csv(\"TEST_DATASET.CSV\")"
   ]
  }
 ],
 "metadata": {
  "kernelspec": {
   "display_name": "Python 3",
   "language": "python",
   "name": "python3"
  },
  "language_info": {
   "codemirror_mode": {
    "name": "ipython",
    "version": 3
   },
   "file_extension": ".py",
   "mimetype": "text/x-python",
   "name": "python",
   "nbconvert_exporter": "python",
   "pygments_lexer": "ipython3",
   "version": "3.11.5"
  }
 },
 "nbformat": 4,
 "nbformat_minor": 2
}
